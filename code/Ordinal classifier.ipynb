{
  "nbformat": 4,
  "nbformat_minor": 0,
  "metadata": {
    "colab": {
      "name": "ASL_Homework",
      "provenance": []
    },
    "kernelspec": {
      "name": "python3",
      "display_name": "Python 3"
    }
  },
  "cells": [
    {
      "cell_type": "markdown",
      "metadata": {
        "id": "uyR3h-AFiKPR",
        "colab_type": "text"
      },
      "source": [
        "# Appendix 2 : Code"
      ]
    },
    {
      "cell_type": "markdown",
      "metadata": {
        "id": "IjxH99JEVTJu",
        "colab_type": "text"
      },
      "source": [
        "### 1. Preparation"
      ]
    },
    {
      "cell_type": "code",
      "metadata": {
        "id": "fE9GyzagCZqF",
        "colab_type": "code",
        "colab": {}
      },
      "source": [
        "#load and libraries\n",
        "!pip install mord\n",
        "import mord\n",
        "import numpy as np\n",
        "import pandas as pd\n",
        "from sklearn.model_selection import RepeatedStratifiedKFold\n",
        "from sklearn.preprocessing import StandardScaler\n",
        "from sklearn.neural_network import MLPClassifier\n",
        "from sklearn.linear_model import LogisticRegression as LR\n",
        "from sklearn.base import clone\n",
        "from sklearn.tree import DecisionTreeClassifier\n",
        "from sklearn.metrics import accuracy_score\n",
        "from sklearn.model_selection import GridSearchCV\n",
        "from sklearn.model_selection import cross_val_score\n",
        "from sklearn.model_selection import RandomizedSearchCV\n",
        "\n"
      ],
      "execution_count": 0,
      "outputs": []
    },
    {
      "cell_type": "code",
      "metadata": {
        "id": "eu7nJpIkgDrb",
        "colab_type": "code",
        "colab": {}
      },
      "source": [
        "# Loading data \n",
        "! git clone https://github.com/chaoyangzhengnash/ASL\n",
        "train = pd.read_csv('ASL/datrain.txt', sep=\" \", header = 'infer')\n",
        "test = pd.read_csv('ASL/dateststudent.txt', sep=\" \", header = 'infer')\n",
        "\n",
        "#Feature scaling\n",
        "sc = StandardScaler()\n",
        "train[[\"fixedacidity\", \"volatileacidity\", \"citricacid\", \"residualsugar\",\n",
        "       \"chlorides\", \"freesulfurdioxide\", \"totalsulfurdioxide\", \"density\", \"pH\", \n",
        "       \"sulphates\", \"alcohol\"]] = sc.fit_transform(train[[\"fixedacidity\", \"volatileacidity\", \"citricacid\", \"residualsugar\",\n",
        "                                                          \"chlorides\", \"freesulfurdioxide\", \"totalsulfurdioxide\",\n",
        "                                                          \"density\", \"pH\", \"sulphates\", \"alcohol\"]])\n",
        "test[[\"fixedacidity\", \"volatileacidity\", \"citricacid\", \"residualsugar\",\n",
        "       \"chlorides\", \"freesulfurdioxide\", \"totalsulfurdioxide\", \"density\", \"pH\", \n",
        "       \"sulphates\", \"alcohol\"]] = sc.fit_transform(test[[\"fixedacidity\", \"volatileacidity\", \"citricacid\", \"residualsugar\",\n",
        "                                                          \"chlorides\", \"freesulfurdioxide\", \"totalsulfurdioxide\",\n",
        "                                                          \"density\", \"pH\", \"sulphates\", \"alcohol\"]])\n",
        "# Get x and y \n",
        "train_x = np.array(train.drop(['y'], axis=1)) \n",
        "train_y = np.array(train['y'])\n",
        "test_x = np.array(test)\n",
        "\n",
        "\n",
        "\n"
      ],
      "execution_count": 0,
      "outputs": []
    },
    {
      "cell_type": "markdown",
      "metadata": {
        "id": "-rDKkz7nVkJa",
        "colab_type": "text"
      },
      "source": [
        "### 2.Design Ordinal classifier"
      ]
    },
    {
      "cell_type": "code",
      "metadata": {
        "id": "n23oh8A5LKJi",
        "colab_type": "code",
        "colab": {}
      },
      "source": [
        "class OrdinalClassifier():\n",
        "    \n",
        "    def __init__(self, clf):\n",
        "        self.clf = clf\n",
        "        self.clfs = {}\n",
        "    \n",
        "    def fit(self, X, y):\n",
        "        self.unique_class = np.sort(np.unique(y))\n",
        "        if self.unique_class.shape[0] > 2:\n",
        "            for i in range(self.unique_class.shape[0]-1):\n",
        "                # for each k - 1 ordinal value we fit a binary classification problem\n",
        "                binary_y = (y > self.unique_class[i]).astype(np.uint8)\n",
        "                clf = clone(self.clf)\n",
        "                clf.fit(X, binary_y)\n",
        "                self.clfs[i] = clf\n",
        "    \n",
        "    def predict_proba(self, X):\n",
        "        clfs_predict = {k:self.clfs[k].predict_proba(X) for k in self.clfs}\n",
        "        predicted = []\n",
        "        for i,y in enumerate(self.unique_class):\n",
        "            if i == 0:\n",
        "                # V1 = 1 - Pr(y > V1)\n",
        "                predicted.append(1 - clfs_predict[y-1][:,1])\n",
        "            elif i == 1:\n",
        "                # Vi = Pr(y > Vi-1) - Pr(y > Vi)\n",
        "                predicted.append(clfs_predict[y-2][:,1] - clfs_predict[y-1][:,1])\n",
        "            else:\n",
        "                # Vk = Pr(y > Vk-1)\n",
        "                 predicted.append(clfs_predict[y-2][:,1])\n",
        "        print(predicted)\n",
        "        return np.vstack(predicted).T\n",
        "    \n",
        "    def predict(self, X):\n",
        "        return np.array((np.argmax(self.predict_proba(X), axis=1)+1))\n",
        "        \n",
        "    def score(self, X, y, sample_weight=None):\n",
        "        return accuracy_score(y, self.predict(X), sample_weight=sample_weight)\n",
        "\n",
        "\n",
        "\n",
        "\n",
        "\n",
        "\n",
        "    "
      ],
      "execution_count": 0,
      "outputs": []
    },
    {
      "cell_type": "markdown",
      "metadata": {
        "id": "5laAZ5zIukRc",
        "colab_type": "text"
      },
      "source": [
        "### 3. Model fitting"
      ]
    },
    {
      "cell_type": "markdown",
      "metadata": {
        "id": "geBJxLbouwIZ",
        "colab_type": "text"
      },
      "source": [
        "**RandomForestClassifier**"
      ]
    },
    {
      "cell_type": "code",
      "metadata": {
        "id": "XEXbFqfPXHlx",
        "colab_type": "code",
        "colab": {}
      },
      "source": [
        "# Random search the best hyperparameter for Randomforest \n",
        "para_ref = {\"max_depth\": list(range(3,60,3)),  \n",
        "}"
      ],
      "execution_count": 0,
      "outputs": []
    },
    {
      "cell_type": "code",
      "metadata": {
        "id": "fcFsEitTnztx",
        "colab_type": "code",
        "colab": {}
      },
      "source": [
        "#The RandomForestClassifier\n",
        "clf = DecisionTreeClassifier()\n",
        "\n",
        "# Implementing Repeated Stratified KFold\n",
        "scores = []\n",
        "rskf = RepeatedStratifiedKFold(n_splits=5, n_repeats=10,\n",
        "    random_state=1)\n",
        "\n",
        "for train_index, test_index in rskf.split(train_x, train_y):\n",
        "    print(\"TRAIN:\", train_index[:10], \"TEST:\", test_index[:10])\n",
        "    X_train, X_test = train_x[train_index], train_x[test_index]\n",
        "    y_train, y_test = train_y[train_index], train_y[test_index]\n",
        "\n",
        "    # Do grid search for hyperparameter\n",
        "    clf = RandomizedSearchCV(clf, para_ref, n_jobs=-1, cv=3)\n",
        "    clf.fit(X_train, y_train)\n",
        "    print('Best parameters found:\\n', clf.best_params_)\n",
        "        \n",
        "    scores.append(clf.score(X_test,y_test))\n",
        "    print(\"score in current fold:\",clf.score(X_test,y_test))\n",
        "    print(\"-----------------------------------------------------------------------------\")\n",
        "    \n",
        "print(np.mean(scores))"
      ],
      "execution_count": 0,
      "outputs": []
    },
    {
      "cell_type": "code",
      "metadata": {
        "id": "I4iaFQ6YnfB7",
        "colab_type": "code",
        "colab": {}
      },
      "source": [
        "#The Ordinal_RaandomForestClassifier\n",
        "clf = OrdinalClassifier(\n",
        "   DecisionTreeClassifier(max_depth=125)\n",
        "    )\n",
        "\n",
        "# Implementing Repeated Stratified KFold\n",
        "scores = []\n",
        "rskf = RepeatedStratifiedKFold(n_splits=5, n_repeats=10,\n",
        "    random_state=1)\n",
        "\n",
        "for train_index, test_index in rskf.split(train_x, train_y):\n",
        "    print(\"TRAIN:\", train_index[:10], \"TEST:\", test_index[:10])\n",
        "    X_train, X_test = train_x[train_index], train_x[test_index]\n",
        "    y_train, y_test = train_y[train_index], train_y[test_index]   \n",
        "    clf.fit(X_train, y_train)\n",
        "    scores.append(clf.score(X_test,y_test))\n",
        "    print(\"score in current fold:\",clf.score(X_test,y_test))\n",
        "    print(\"-----------------------------------------------------------------------------\")\n",
        "    \n",
        "print(np.mean(scores))"
      ],
      "execution_count": 0,
      "outputs": []
    },
    {
      "cell_type": "markdown",
      "metadata": {
        "id": "Mv78A7h5brxJ",
        "colab_type": "text"
      },
      "source": [
        "**MLPClassifier**"
      ]
    },
    {
      "cell_type": "code",
      "metadata": {
        "id": "2YH1ynhwYMhY",
        "colab_type": "code",
        "colab": {}
      },
      "source": [
        "parameter_space = {\n",
        "    'hidden_layer_sizes': [(50,50,50), (50,100,50), (100),(150,100,50),(125,150,200)],\n",
        "    'activation': [ 'relu'],\n",
        "    'solver': ['adam'],\n",
        "    'alpha': [0.0001, 0.05, 0.1],\n",
        "    'learning_rate': ['constant','adaptive'],\n",
        "}\n",
        "\n",
        "mlp = MLPClassifier(max_iter=100)\n"
      ],
      "execution_count": 0,
      "outputs": []
    },
    {
      "cell_type": "code",
      "metadata": {
        "id": "_UwR_oi5uv17",
        "colab_type": "code",
        "colab": {}
      },
      "source": [
        "#The MLPClassifier\n",
        "\n",
        "# Implementing Repeated Stratified KFold\n",
        "\n",
        "scores = []\n",
        "rskf = RepeatedStratifiedKFold(n_splits=5, n_repeats=10,\n",
        "    random_state=1)\n",
        "\n",
        "for train_index, test_index in rskf.split(train_x, train_y):\n",
        "    print(\"TRAIN:\", train_index[:10], \"TEST:\", test_index[:10])\n",
        "    X_train, X_test = train_x[train_index], train_x[test_index]\n",
        "    y_train, y_test = train_y[train_index], train_y[test_index] \n",
        "\n",
        "    # Do grid search for hyperparameter\n",
        "    clf = GridSearchCV(mlp, parameter_space, n_jobs=-1, cv=3)\n",
        "    clf.fit(X_train, y_train)\n",
        "    print('Best parameters found:\\n', clf.best_params_)\n",
        "\n",
        "    scores.append(clf.score(X_test, y_test))\n",
        "    print(\"r2 in current fold:\",clf.score(X_test, y_test))\n",
        "    print(\"-----------------------------------------------------------------------------\")\n",
        "print(np.mean(scores))"
      ],
      "execution_count": 0,
      "outputs": []
    },
    {
      "cell_type": "code",
      "metadata": {
        "id": "ZPws5ogELSdO",
        "colab_type": "code",
        "colab": {}
      },
      "source": [
        "#The Ordinal_MLPClassifier\n",
        "clf = OrdinalClassifier(\n",
        "    MLPClassifier(hidden_layer_sizes=(150,100,50), \n",
        "                           max_iter=300,\n",
        "                           activation = 'relu',\n",
        "                           solver='adam',\n",
        "                           random_state=1))\n",
        "\n",
        "\n",
        "# Implementing Repeated Stratified KFold\n",
        "scores = []\n",
        "rskf = RepeatedStratifiedKFold(n_splits=5, n_repeats=10,\n",
        "    random_state=1)\n",
        "\n",
        "for train_index, test_index in rskf.split(train_x, train_y):\n",
        "    print(\"TRAIN:\", train_index[:10], \"TEST:\", test_index[:10])\n",
        "    X_train, X_test = train_x[train_index], train_x[test_index]\n",
        "    y_train, y_test = train_y[train_index], train_y[test_index]   \n",
        "\n",
        "    clf.fit(X_train, y_train)\n",
        "\n",
        "    scores.append(clf.score(X_test,y_test))\n",
        "    print(\"score in current fold:\",clf.score(X_test,y_test))\n",
        "    print(\"-----------------------------------------------------------------------------\")\n",
        "    \n",
        "print(np.mean(scores))"
      ],
      "execution_count": 0,
      "outputs": []
    },
    {
      "cell_type": "markdown",
      "metadata": {
        "id": "rg2OV9yiBX53",
        "colab_type": "text"
      },
      "source": [
        "**Mord**"
      ]
    },
    {
      "cell_type": "code",
      "metadata": {
        "id": "yBDWBHOlEG6O",
        "colab_type": "code",
        "colab": {}
      },
      "source": [
        "# 1. LogisticIT\n",
        "scores_LogisticIT = []\n",
        "LogisticIT_classifier = mord.LogisticIT(alpha = 1.0,\n",
        "                                        verbose = 0,\n",
        "                                        max_iter = 1000)\n",
        "\n",
        "rskf = RepeatedStratifiedKFold(n_splits=5, n_repeats=10,\n",
        "    random_state=1)\n",
        "\n",
        "for train_index, test_index in rskf.split(train_x, train_y):\n",
        "    print(\"TRAIN:\", train_index[:10], \"TEST:\", test_index[:10])\n",
        "    X_train, X_test = train_x[train_index], train_x[test_index]\n",
        "    y_train, y_test = train_y[train_index], train_y[test_index]    \n",
        "    LogisticIT_classifier.fit(X_train, y_train)\n",
        "    scores_LogisticIT.append(LogisticIT_classifier.score(X_test, y_test))\n",
        "    print(\"r2 in current fold:\",LogisticIT_classifier.score(X_test, y_test))\n",
        "    print(\"-----------------------------------------------------------------------------\")\n",
        "print(np.mean(scores_LogisticIT))\n"
      ],
      "execution_count": 0,
      "outputs": []
    },
    {
      "cell_type": "code",
      "metadata": {
        "id": "jWKfgDdmpoT_",
        "colab_type": "code",
        "colab": {}
      },
      "source": [
        "# 2. LogisticAT\n",
        "scores_LogisticAT = []\n",
        "LogisticAT_classifier = mord.LogisticAT(alpha = 1.0,\n",
        "                                        verbose = 0,\n",
        "                                        max_iter = 1000)\n",
        "\n",
        "rskf = RepeatedStratifiedKFold(n_splits=5, n_repeats=10,\n",
        "    random_state=1)\n",
        "\n",
        "for train_index, test_index in rskf.split(train_x, train_y):\n",
        "    print(\"TRAIN:\", train_index[:10], \"TEST:\", test_index[:10])\n",
        "    X_train, X_test = train_x[train_index], train_x[test_index]\n",
        "    y_train, y_test = train_y[train_index], train_y[test_index]    \n",
        "    LogisticAT_classifier.fit(X_train, y_train)\n",
        "    scores_LogisticAT.append(LogisticAT_classifier.score(X_test, y_test))\n",
        "    print(\"r2 in current fold:\",LogisticAT_classifier.score(X_test, y_test))\n",
        "    print(\"-----------------------------------------------------------------------------\")\n",
        "print(np.mean(scores_LogisticAT))"
      ],
      "execution_count": 0,
      "outputs": []
    },
    {
      "cell_type": "code",
      "metadata": {
        "id": "hfVQxnaWrHF2",
        "colab_type": "code",
        "colab": {}
      },
      "source": [
        "# 3. OrdinalRidge\n",
        "scores_OrdinalRidge = []\n",
        "OrdinalRidge_classifier = mord.OrdinalRidge(alpha = 1.0,\n",
        "                                        max_iter = 1000)\n",
        "\n",
        "rskf = RepeatedStratifiedKFold(n_splits=5, n_repeats=10,\n",
        "    random_state=1)\n",
        "\n",
        "for train_index, test_index in rskf.split(train_x, train_y):\n",
        "    print(\"TRAIN:\", train_index[:10], \"TEST:\", test_index[:10])\n",
        "    X_train, X_test = train_x[train_index], train_x[test_index]\n",
        "    y_train, y_test = train_y[train_index], train_y[test_index]    \n",
        "    OrdinalRidge_classifier.fit(X_train, y_train)\n",
        "    scores_OrdinalRidge.append(OrdinalRidge_classifier.score(X_test, y_test))\n",
        "    print(\"r2 in current fold:\",OrdinalRidge_classifier.score(X_test, y_test))\n",
        "    print(\"-----------------------------------------------------------------------------\")\n",
        "print(np.mean(scores_OrdinalRidge))"
      ],
      "execution_count": 0,
      "outputs": []
    },
    {
      "cell_type": "code",
      "metadata": {
        "id": "Ot1NUSSYriO-",
        "colab_type": "code",
        "colab": {}
      },
      "source": [
        "# 4. LAD\n",
        "scores_LAD = []\n",
        "LAD_classifier = mord.LAD(max_iter = 1000)\n",
        "\n",
        "rskf = RepeatedStratifiedKFold(n_splits=5, n_repeats=10,\n",
        "    random_state=1)\n",
        "\n",
        "for train_index, test_index in rskf.split(train_x, train_y):\n",
        "    print(\"TRAIN:\", train_index[:10], \"TEST:\", test_index[:10])\n",
        "    X_train, X_test = train_x[train_index], train_x[test_index]\n",
        "    y_train, y_test = train_y[train_index], train_y[test_index]    \n",
        "    LAD_classifier.fit(X_train, y_train)\n",
        "    scores_LAD.append(LAD_classifier.score(X_test, y_test))\n",
        "    print(\"r2 in current fold:\",LAD_classifier.score(X_test, y_test))\n",
        "    print(\"-----------------------------------------------------------------------------\")\n",
        "print(np.mean(scores_LAD))"
      ],
      "execution_count": 0,
      "outputs": []
    },
    {
      "cell_type": "markdown",
      "metadata": {
        "id": "TIfQTGmaQLf6",
        "colab_type": "text"
      },
      "source": [
        "### Prediction with test data"
      ]
    },
    {
      "cell_type": "code",
      "metadata": {
        "id": "Cd3pXeFKH26X",
        "colab_type": "code",
        "colab": {}
      },
      "source": [
        "# Using Ordinal MLP to make prediction in the test dataset.\n",
        "parameter_space = {\n",
        "    'hidden_layer_sizes': [(50,50,50), (50,100,50), (100),(150,100,50),(125,150,200)],\n",
        "    'activation': [ 'relu'],\n",
        "    'solver': ['adam'],\n",
        "    'alpha': [0.0001, 0.05, 0.1],\n",
        "    'learning_rate': ['constant','adaptive'],\n",
        "}\n",
        "\n",
        "mlp = MLPClassifier()\n",
        "clf = GridSearchCV(mlp, parameter_space, n_jobs=-1, cv=3)\n",
        "clf.fit(train_x, train_y)\n",
        "print('Best parameters found:\\n', clf.best_params_)\n"
      ],
      "execution_count": 0,
      "outputs": []
    },
    {
      "cell_type": "code",
      "metadata": {
        "id": "7MCZsHcBKmVv",
        "colab_type": "code",
        "colab": {}
      },
      "source": [
        "clf = OrdinalClassifier(\n",
        "    MLPClassifier(hidden_layer_sizes=(50,50,50), \n",
        "                           max_iter=300,\n",
        "                           activation = 'relu',\n",
        "                           solver='adam',\n",
        "                           alpha = 0.0001,\n",
        "                           random_state=1,\n",
        "                           learning_rate = 'adaptive'))\n",
        "clf.fit(train_x, train_y)\n",
        "clf.predict(test_x)\n"
      ],
      "execution_count": 0,
      "outputs": []
    },
    {
      "cell_type": "code",
      "metadata": {
        "id": "4PhBcXZHLTNO",
        "colab_type": "code",
        "colab": {}
      },
      "source": [
        "# Just to print the entire array\n",
        "import sys\n",
        "import numpy\n",
        "np.set_printoptions(threshold=sys.maxsize)\n",
        "\n",
        "a = clf.predict(test_x)\n",
        "a"
      ],
      "execution_count": 0,
      "outputs": []
    },
    {
      "cell_type": "code",
      "metadata": {
        "id": "LU4mWkQOceCW",
        "colab_type": "code",
        "colab": {}
      },
      "source": [
        "np.savetxt('chaoyang zheng',clf.predict(test_x))"
      ],
      "execution_count": 0,
      "outputs": []
    }
  ]
}
